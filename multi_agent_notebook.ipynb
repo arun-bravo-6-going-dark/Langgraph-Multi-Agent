{
 "cells": [
  {
   "cell_type": "code",
   "execution_count": 1,
   "metadata": {},
   "outputs": [],
   "source": [
    "import os\n",
    "from langchain_community.embeddings import HuggingFaceBgeEmbeddings\n",
    "import chromadb\n",
    "from langchain_chroma import Chroma\n",
    "from langchain_core.tools import tool\n",
    "from langgraph.graph import END, START, MessagesState, StateGraph\n",
    "from langchain_core.prompts import ChatPromptTemplate\n",
    "from langgraph.prebuilt import ToolNode, create_react_agent\n",
    "from langchain_openai import ChatOpenAI\n",
    "from typing_extensions import TypedDict\n",
    "from typing import Literal\n",
    "from langgraph.types import Command\n",
    "from langchain_core.messages import HumanMessage, AIMessage\n",
    "from langchain_community.tools import DuckDuckGoSearchRun\n",
    "from langgraph.checkpoint.memory import MemorySaver\n",
    "from dotenv import load_dotenv\n"
   ]
  },
  {
   "cell_type": "code",
   "execution_count": 2,
   "metadata": {},
   "outputs": [
    {
     "data": {
      "text/plain": [
       "True"
      ]
     },
     "execution_count": 2,
     "metadata": {},
     "output_type": "execute_result"
    }
   ],
   "source": [
    "# ----------------------------\n",
    "# Load environment variables\n",
    "load_dotenv()"
   ]
  },
  {
   "cell_type": "code",
   "execution_count": 3,
   "metadata": {},
   "outputs": [
    {
     "name": "stderr",
     "output_type": "stream",
     "text": [
      "/usr/local/lib/python3.10/site-packages/sentence_transformers/cross_encoder/CrossEncoder.py:11: TqdmWarning: IProgress not found. Please update jupyter and ipywidgets. See https://ipywidgets.readthedocs.io/en/stable/user_install.html\n",
      "  from tqdm.autonotebook import tqdm, trange\n",
      "2025-02-10 00:02:43.261054: I tensorflow/core/platform/cpu_feature_guard.cc:210] This TensorFlow binary is optimized to use available CPU instructions in performance-critical operations.\n",
      "To enable the following instructions: AVX2 FMA, in other operations, rebuild TensorFlow with the appropriate compiler flags.\n"
     ]
    }
   ],
   "source": [
    "# ----------------------------\n",
    "# Define the embedding model and vector store\n",
    "model_name = \"BAAI/bge-small-en\"\n",
    "model_kwargs = {\"device\": \"cpu\"}\n",
    "encode_kwargs = {\"normalize_embeddings\": True}\n",
    "hf = HuggingFaceBgeEmbeddings(\n",
    "    model_name=model_name, model_kwargs=model_kwargs, encode_kwargs=encode_kwargs\n",
    ")\n",
    "\n",
    "persistent_client = chromadb.PersistentClient()\n",
    "vector_store_from_client = Chroma(\n",
    "    client=persistent_client,\n",
    "    collection_name=\"contract_collection\",\n",
    "    embedding_function=hf,\n",
    ")\n",
    "retriever = vector_store_from_client.as_retriever()\n",
    "\n",
    "# ----------------------------\n",
    "# Define our tools\n",
    "\n",
    "@tool\n",
    "def retrieve_from_vectorstore(search_string: str) -> str:\n",
    "    \"\"\"\n",
    "    Retrieves information about Federal Employee Program (FEP) in Blue Cross Blue Shield based on the provided query.\n",
    "    \"\"\"\n",
    "    retrieved_docs = retriever.invoke(search_string)\n",
    "    # Return the page content from all retrieved docs as one string.\n",
    "    return \"\\n\".join(doc.page_content for doc in retrieved_docs)\n",
    "\n",
    "@tool\n",
    "def ddg_search(search_string: str) -> str:\n",
    "    \"\"\"Searches the internet based on the user query.\"\"\"\n",
    "    search = DuckDuckGoSearchRun()\n",
    "    search_results = search.invoke(search_string)\n",
    "    # If multiple results are returned, join them into a single string.\n",
    "    if isinstance(search_results, list):\n",
    "        return \"\\n\".join(search_results)\n",
    "    return search_results\n",
    "\n",
    "# ----------------------------\n",
    "# Set up the LLM and the supervisor prompt\n",
    "\n",
    "llm = ChatOpenAI(\n",
    "    model=\"gpt-4o-mini\",\n",
    "    temperature=0,\n",
    "    api_key=os.getenv(\"OPENAI_API_KEY\"),\n",
    ")\n",
    "\n",
    "# Define agent names.\n",
    "members = [\"retriever_agent\", \"internet_search_agent\", \"small_talk_agent\"]\n",
    "options = members + [\"FINISH\"]\n",
    "\n",
    "# Define agent descriptions.\n",
    "retriever_definition = \"Retrieves information about Insurance policies based on the provided query.\"\n",
    "internet_search_definition = \"Searches the internet based on the user query.\"\n",
    "small_talk_definition = \"Engages in general conversation when no specific retrieval is needed.\"\n",
    "\n",
    "system_prompt = (\n",
    "    \"You are a supervisor managing a conversation between the following workers:\\n\"\n",
    "    \"1. retriever_agent: \" + retriever_definition + \"\\n\"\n",
    "    \"2. internet_search_agent: \" + internet_search_definition + \"\\n\"\n",
    "    \"3. small_talk_agent: \" + small_talk_definition + \"\\n\\n\"\n",
    "    \"Look at the conversation history and decide which worker should act next to help answer the user’s query. \"\n",
    "    \"If no further action is needed or the query is not relevant, respond with FINISH.\"\n",
    ")\n",
    "\n",
    "# Define the expected structure of the supervisor's output.\n",
    "class Router(TypedDict):\n",
    "    next: Literal[\"retriever_agent\", \"internet_search_agent\", \"small_talk_agent\", \"FINISH\"]\n",
    "\n",
    "class State(MessagesState):\n",
    "    next: str\n",
    "\n",
    "def supervisor_node(state: State) -> Command[Literal[\"retriever_agent\", \"internet_search_agent\", \"small_talk_agent\", \"final_response_node\"]]:\n",
    "    # Prepend the system prompt to the conversation.\n",
    "    messages = [{\"role\": \"system\", \"content\": system_prompt}] + state[\"messages\"]\n",
    "    response = llm.with_structured_output(Router).invoke(messages)\n",
    "    print(\"Supervisor response:\", response)\n",
    "    \n",
    "    # Attempt to extract the 'next' value.\n",
    "    next_value = response.get(\"next\")\n",
    "    if next_value is None and \"properties\" in response:\n",
    "        next_value = response[\"properties\"].get(\"next\")\n",
    "    if next_value is None:\n",
    "        raise ValueError(\"Structured output did not contain 'next'\")\n",
    "    \n",
    "    if next_value == \"FINISH\":\n",
    "        return Command(goto=\"final_response_node\")\n",
    "    return Command(goto=next_value, update={\"next\": next_value})\n",
    "\n",
    "# ----------------------------\n",
    "# Create the agent nodes\n",
    "\n",
    "# The retriever agent uses the vector store tool.\n",
    "retrieve_agent = create_react_agent(\n",
    "    llm,\n",
    "    tools=[retrieve_from_vectorstore],\n",
    "    prompt=\"You are a retriever agent. Provide relevant background information without doing any math.\"\n",
    ")\n",
    "\n",
    "# The internet search agent uses the DuckDuckGo search tool.\n",
    "internet_agent = create_react_agent(\n",
    "    llm,\n",
    "    tools=[ddg_search],\n",
    "    prompt=\"You are an internet search agent. Provide current information based on an online search without doing any math.\"\n",
    ")\n",
    "\n",
    "def small_talk_agent_node(state: State) -> Command[Literal[\"__end__\"]]:\n",
    "    result = llm.invoke(state[\"messages\"])\n",
    "    return Command(\n",
    "        update={\"messages\": [HumanMessage(content=result.content, name=\"small_talk_agent\")]},\n",
    "        goto=END,\n",
    "    )\n",
    "\n",
    "def retrieve_agent_node(state: State) -> Command[Literal[\"supervisor\"]]:\n",
    "    result = retrieve_agent.invoke(state)\n",
    "    print(\"Retriever agent result:\", result)\n",
    "    return Command(\n",
    "        update={\n",
    "            \"messages\": [\n",
    "                HumanMessage(\n",
    "                    content=result[\"messages\"][-1].content,\n",
    "                    name=\"retriever_agent\"\n",
    "                )\n",
    "            ]\n",
    "        },\n",
    "        goto=\"supervisor\",\n",
    "    )\n",
    "\n",
    "def internet_search_agent_node(state: State) -> Command[Literal[\"supervisor\"]]:\n",
    "    result = internet_agent.invoke(state)\n",
    "    print(\"Internet search agent result:\", result)\n",
    "    # Tag the message correctly with the agent's name.\n",
    "    return Command(\n",
    "        update={\n",
    "            \"messages\": [\n",
    "                HumanMessage(\n",
    "                    content=result[\"messages\"][-1].content,\n",
    "                    name=\"internet_search_agent\"\n",
    "                )\n",
    "            ]\n",
    "        },\n",
    "        goto=\"supervisor\",\n",
    "    )\n",
    "\n",
    "def final_response_node(state: State) -> Command[Literal[\"__end__\"]]:\n",
    "    final_response = llm.invoke([\n",
    "        {\"role\": \"system\", \"content\": \"Provide a final, elaborate answer to the user’s most recent query using all available context.\"},\n",
    "        *state[\"messages\"],\n",
    "    ])\n",
    "    return Command(\n",
    "        update={\"messages\": [AIMessage(content=final_response.content, name=\"final_response\")]},\n",
    "        goto=END,\n",
    "    )\n",
    "\n",
    "# ----------------------------\n",
    "# Build the Langgraph state graph\n",
    "\n",
    "builder = StateGraph(State)\n",
    "builder.add_node(\"supervisor\", supervisor_node)\n",
    "builder.add_node(\"retriever_agent\", retrieve_agent_node)\n",
    "builder.add_node(\"internet_search_agent\", internet_search_agent_node)\n",
    "builder.add_node(\"small_talk_agent\", small_talk_agent_node)\n",
    "builder.add_node(\"final_response_node\", final_response_node)\n",
    "builder.add_edge(START, \"supervisor\")\n",
    "\n",
    "checkpointer = MemorySaver()\n",
    "graph = builder.compile(checkpointer=checkpointer)"
   ]
  },
  {
   "cell_type": "code",
   "execution_count": 4,
   "metadata": {},
   "outputs": [
    {
     "data": {
      "image/png": "[encoded data removed]",
      "text/plain": [
       "<IPython.core.display.Image object>"
      ]
     },
     "metadata": {},
     "output_type": "display_data"
    }
   ],
   "source": [
    "from IPython.display import Image, display\n",
    "\n",
    "display(Image(graph.get_graph().draw_mermaid_png()))"
   ]
  },
  {
   "cell_type": "code",
   "execution_count": 5,
   "metadata": {},
   "outputs": [
    {
     "name": "stdout",
     "output_type": "stream",
     "text": [
      "================================\u001b[1m Human Message \u001b[0m=================================\n",
      "\n",
      "Hi\n",
      "Supervisor response: {'next': 'small_talk_agent'}\n",
      "================================\u001b[1m Human Message \u001b[0m=================================\n",
      "\n",
      "Hi\n",
      "================================\u001b[1m Human Message \u001b[0m=================================\n",
      "Name: small_talk_agent\n",
      "\n",
      "Hello! How can I assist you today?\n"
     ]
    }
   ],
   "source": [
    "input_message = {\"type\": \"user\", \"content\":\"Hi\"}\n",
    "config = {\"configurable\": {\"thread_id\": \"1\"}}\n",
    "                           \n",
    "async for chunk in graph.astream({\"messages\": [input_message]}, config, stream_mode=\"values\"):\n",
    "    chunk[\"messages\"][-1].pretty_print()"
   ]
  },
  {
   "cell_type": "code",
   "execution_count": 6,
   "metadata": {},
   "outputs": [
    {
     "name": "stdout",
     "output_type": "stream",
     "text": [
      "================================\u001b[1m Human Message \u001b[0m=================================\n",
      "\n",
      "How many WDC's and CDC's does ferrari F1 team have?\n",
      "Supervisor response: {'next': 'internet_search_agent'}\n",
      "================================\u001b[1m Human Message \u001b[0m=================================\n",
      "\n",
      "How many WDC's and CDC's does ferrari F1 team have?\n",
      "Internet search agent result: {'messages': [HumanMessage(content='Hi', additional_kwargs={}, response_metadata={}, id='26240007-9bab-494e-9f87-eab0982cd1a7'), HumanMessage(content='Hello! How can I assist you today?', additional_kwargs={}, response_metadata={}, name='small_talk_agent', id='05f36658-b1f9-4ca6-9b65-b6bc557d58e7'), HumanMessage(content=\"How many WDC's and CDC's does ferrari F1 team have?\", additional_kwargs={}, response_metadata={}, id='bfc3ddb4-4725-4876-b01f-1a8251480682'), AIMessage(content='', additional_kwargs={'tool_calls': [{'id': 'call_42rrIc7cgR4aXBe5T8KNKUnc', 'function': {'arguments': '{\"search_string\": \"Ferrari F1 team World Drivers Championships WDC count 2023\"}', 'name': 'ddg_search'}, 'type': 'function'}, {'id': 'call_zvISmlqkHQjWToqOo4Qil0no', 'function': {'arguments': '{\"search_string\": \"Ferrari F1 team Constructors Championships CDC count 2023\"}', 'name': 'ddg_search'}, 'type': 'function'}], 'refusal': None}, response_metadata={'token_usage': {'completion_tokens': 73, 'prompt_tokens': 107, 'total_tokens': 180, 'completion_tokens_details': {'audio_tokens': 0, 'reasoning_tokens': 0, 'accepted_prediction_tokens': 0, 'rejected_prediction_tokens': 0}, 'prompt_tokens_details': {'audio_tokens': 0, 'cached_tokens': 0}}, 'model_name': 'gpt-4o-mini-2024-07-18', 'system_fingerprint': 'fp_bd83329f63', 'finish_reason': 'tool_calls', 'logprobs': None}, id='run-4e4b49ef-c726-4758-870e-90dfd151bbe6-0', tool_calls=[{'name': 'ddg_search', 'args': {'search_string': 'Ferrari F1 team World Drivers Championships WDC count 2023'}, 'id': 'call_42rrIc7cgR4aXBe5T8KNKUnc', 'type': 'tool_call'}, {'name': 'ddg_search', 'args': {'search_string': 'Ferrari F1 team Constructors Championships CDC count 2023'}, 'id': 'call_zvISmlqkHQjWToqOo4Qil0no', 'type': 'tool_call'}], usage_metadata={'input_tokens': 107, 'output_tokens': 73, 'total_tokens': 180, 'input_token_details': {'audio': 0, 'cache_read': 0}, 'output_token_details': {'audio': 0, 'reasoning': 0}}), ToolMessage(content=\"Error: RatelimitException('https://links.duckduckgo.com/d.js?q=Ferrari+F1+team+World+Drivers+Championships+WDC+count+2023&kl=wt-wt&l=wt-wt&p=&s=0&df=y&vqd=4-220446257768048904626635845264412374945&bing_market=wt-WT&ex=-1 202 Ratelimit')\\n Please fix your mistakes.\", name='ddg_search', id='7dfddcf6-c52f-4927-8170-845277f78af6', tool_call_id='call_42rrIc7cgR4aXBe5T8KNKUnc', status='error'), ToolMessage(content='Error: DuckDuckGoSearchException(\"_text_extract_json() keywords=\\'Ferrari F1 team Constructors Championships CDC count 2023\\' ValueError: subsection not found\")\\n Please fix your mistakes.', name='ddg_search', id='5c990c54-3783-48c3-a86c-3037a724b406', tool_call_id='call_zvISmlqkHQjWToqOo4Qil0no', status='error'), AIMessage(content='', additional_kwargs={'tool_calls': [{'id': 'call_lV3u6AkuYZnD8aq6wY0bCWeT', 'function': {'arguments': '{\"search_string\": \"Ferrari F1 team World Drivers Championships total\"}', 'name': 'ddg_search'}, 'type': 'function'}, {'id': 'call_3ygUsE58ImGWbRL4XQ0s25kw', 'function': {'arguments': '{\"search_string\": \"Ferrari F1 team Constructors Championships total\"}', 'name': 'ddg_search'}, 'type': 'function'}], 'refusal': None}, response_metadata={'token_usage': {'completion_tokens': 64, 'prompt_tokens': 339, 'total_tokens': 403, 'completion_tokens_details': {'audio_tokens': 0, 'reasoning_tokens': 0, 'accepted_prediction_tokens': 0, 'rejected_prediction_tokens': 0}, 'prompt_tokens_details': {'audio_tokens': 0, 'cached_tokens': 0}}, 'model_name': 'gpt-4o-mini-2024-07-18', 'system_fingerprint': 'fp_72ed7ab54c', 'finish_reason': 'tool_calls', 'logprobs': None}, id='run-92531af4-8d71-4e77-802a-25c1ffe644ad-0', tool_calls=[{'name': 'ddg_search', 'args': {'search_string': 'Ferrari F1 team World Drivers Championships total'}, 'id': 'call_lV3u6AkuYZnD8aq6wY0bCWeT', 'type': 'tool_call'}, {'name': 'ddg_search', 'args': {'search_string': 'Ferrari F1 team Constructors Championships total'}, 'id': 'call_3ygUsE58ImGWbRL4XQ0s25kw', 'type': 'tool_call'}], usage_metadata={'input_tokens': 339, 'output_tokens': 64, 'total_tokens': 403, 'input_token_details': {'audio': 0, 'cache_read': 0}, 'output_token_details': {'audio': 0, 'reasoning': 0}}), ToolMessage(content=\"Error: RatelimitException('https://links.duckduckgo.com/d.js?q=Ferrari+F1+team+World+Drivers+Championships+total&kl=wt-wt&l=wt-wt&p=&s=0&df=y&vqd=4-132096990519816472947446853322567614951&bing_market=wt-WT&ex=-1 202 Ratelimit')\\n Please fix your mistakes.\", name='ddg_search', id='55cf11f3-4184-4509-bfdb-913405242db9', tool_call_id='call_lV3u6AkuYZnD8aq6wY0bCWeT', status='error'), ToolMessage(content=\"Error: RatelimitException('https://links.duckduckgo.com/d.js?q=Ferrari+F1+team+Constructors+Championships+total&kl=wt-wt&l=wt-wt&p=&s=0&df=y&vqd=4-287818401660601887790513904718321535180&bing_market=wt-WT&ex=-1 202 Ratelimit')\\n Please fix your mistakes.\", name='ddg_search', id='141667b4-472b-4921-96fa-70c93655451c', tool_call_id='call_3ygUsE58ImGWbRL4XQ0s25kw', status='error'), AIMessage(content=\"It seems I'm currently unable to retrieve the latest information about the Ferrari F1 team's World Drivers Championships (WDC) and Constructors Championships (CDC) due to a rate limit issue. However, as of my last knowledge update:\\n\\n- Ferrari has won **15 World Drivers Championships (WDC)**.\\n- Ferrari has secured **16 Constructors Championships (CDC)**.\\n\\nFor the most accurate and up-to-date information, I recommend checking the official Formula 1 website or Ferrari's official site. If you have any other questions or need further assistance, feel free to ask!\", additional_kwargs={'refusal': None}, response_metadata={'token_usage': {'completion_tokens': 114, 'prompt_tokens': 612, 'total_tokens': 726, 'completion_tokens_details': {'audio_tokens': 0, 'reasoning_tokens': 0, 'accepted_prediction_tokens': 0, 'rejected_prediction_tokens': 0}, 'prompt_tokens_details': {'audio_tokens': 0, 'cached_tokens': 0}}, 'model_name': 'gpt-4o-mini-2024-07-18', 'system_fingerprint': 'fp_72ed7ab54c', 'finish_reason': 'stop', 'logprobs': None}, id='run-2e2ab28d-bb7d-4c82-ba7d-bc785a7367bb-0', usage_metadata={'input_tokens': 612, 'output_tokens': 114, 'total_tokens': 726, 'input_token_details': {'audio': 0, 'cache_read': 0}, 'output_token_details': {'audio': 0, 'reasoning': 0}})]}\n",
      "================================\u001b[1m Human Message \u001b[0m=================================\n",
      "Name: internet_search_agent\n",
      "\n",
      "It seems I'm currently unable to retrieve the latest information about the Ferrari F1 team's World Drivers Championships (WDC) and Constructors Championships (CDC) due to a rate limit issue. However, as of my last knowledge update:\n",
      "\n",
      "- Ferrari has won **15 World Drivers Championships (WDC)**.\n",
      "- Ferrari has secured **16 Constructors Championships (CDC)**.\n",
      "\n",
      "For the most accurate and up-to-date information, I recommend checking the official Formula 1 website or Ferrari's official site. If you have any other questions or need further assistance, feel free to ask!\n",
      "Supervisor response: {'next': 'FINISH'}\n",
      "==================================\u001b[1m Ai Message \u001b[0m==================================\n",
      "Name: final_response\n",
      "\n",
      "As of my last knowledge update in October 2023, the Ferrari Formula 1 team has achieved significant success in the sport. They have won a total of **15 World Drivers Championships (WDC)** and **16 Constructors Championships (CDC)**. \n",
      "\n",
      "These achievements highlight Ferrari's long-standing legacy and competitiveness in Formula 1, making them one of the most successful teams in the history of the sport. For the most current statistics or any recent developments, I recommend checking the official Formula 1 website or Ferrari's official channels. If you have any more questions or need further information, feel free to ask!\n"
     ]
    }
   ],
   "source": [
    "input_message = {\"type\": \"user\", \"content\":\"How many WDC's and CDC's does ferrari F1 team have?\"}\n",
    "config = {\"configurable\": {\"thread_id\": \"1\"}}\n",
    "                           \n",
    "async for chunk in graph.astream({\"messages\": [input_message]}, config, stream_mode=\"values\"):\n",
    "    chunk[\"messages\"][-1].pretty_print()"
   ]
  },
  {
   "cell_type": "code",
   "execution_count": null,
   "metadata": {},
   "outputs": [],
   "source": []
  }
 ],
 "metadata": {
  "kernelspec": {
   "display_name": "Python 3",
   "language": "python",
   "name": "python3"
  },
  "language_info": {
   "codemirror_mode": {
    "name": "ipython",
    "version": 3
   },
   "file_extension": ".py",
   "mimetype": "text/x-python",
   "name": "python",
   "nbconvert_exporter": "python",
   "pygments_lexer": "ipython3",
   "version": "3.10.15"
  }
 },
 "nbformat": 4,
 "nbformat_minor": 2
}
